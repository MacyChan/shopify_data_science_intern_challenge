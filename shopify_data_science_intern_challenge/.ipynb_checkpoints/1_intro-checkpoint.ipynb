{
 "cells": [
  {
   "cell_type": "markdown",
   "metadata": {},
   "source": [
    "# Welcome to Macy's Notebook\n",
    "\n",
    "This notebook is created for Shoptify Data Science Intern Challenge (Summer 2022)\n",
    "\n",
    "\n",
    ">For **summary** of answers, click [Here]()  \n",
    "\n",
    ">For **details** of steps and EDA, click [Question1]() [Question2]()  \n",
    "\n",
    "Here is my personal [webpage](https://www.macy-chan.com)"
   ]
  },
  {
   "cell_type": "code",
   "execution_count": 1,
   "metadata": {},
   "outputs": [],
   "source": []
  },
  {
   "cell_type": "code",
   "execution_count": null,
   "metadata": {},
   "outputs": [
    {
     "name": "stderr",
     "output_type": "stream",
     "text": [
      "Warning message:\n",
      "In options(stringsAsFactors = TRUE) :\n",
      "  'options(stringsAsFactors = TRUE)' is deprecated and will be disabled\n",
      "Error: package or namespace load failed for ‘methods’:\n",
      " .onLoad failed in loadNamespace() for 'methods', details:\n",
      "  call: assign(\".methodsNamespace\", where, baseenv())\n",
      "  error: cannot add binding of '.methodsNamespace' to the base environment\n",
      "Error: package or namespace load failed for ‘datasets’:\n",
      " .onLoad failed in loadNamespace() for 'methods', details:\n",
      "  call: assign(\".methodsNamespace\", where, baseenv())\n",
      "  error: cannot add binding of '.methodsNamespace' to the base environment\n",
      "Error: package or namespace load failed for ‘utils’:\n",
      " .onLoad failed in loadNamespace() for 'methods', details:\n",
      "  call: assign(\".methodsNamespace\", where, baseenv())\n",
      "  error: cannot add binding of '.methodsNamespace' to the base environment\n",
      "Error: package or namespace load failed for ‘grDevices’:\n",
      " .onLoad failed in loadNamespace() for 'methods', details:\n",
      "  call: assign(\".methodsNamespace\", where, baseenv())\n",
      "  error: cannot add binding of '.methodsNamespace' to the base environment\n",
      "Error: package or namespace load failed for ‘graphics’:\n",
      " .onLoad failed in loadNamespace() for 'methods', details:\n",
      "  call: assign(\".methodsNamespace\", where, baseenv())\n",
      "  error: cannot add binding of '.methodsNamespace' to the base environment\n"
     ]
    }
   ],
   "source": [
    "%load_ext rpy2.ipython"
   ]
  },
  {
   "cell_type": "code",
   "execution_count": null,
   "metadata": {},
   "outputs": [],
   "source": [
    "%%R\n",
    "library(\"cowsay\")\n",
    "say(\"This is a fun application!\", \"cat\")"
   ]
  },
  {
   "cell_type": "code",
   "execution_count": null,
   "metadata": {},
   "outputs": [],
   "source": []
  }
 ],
 "metadata": {
  "celltoolbar": "Tags",
  "kernelspec": {
   "display_name": "Python [conda env:spotify_user_behaviour_predictor]",
   "language": "python",
   "name": "conda-env-spotify_user_behaviour_predictor-py"
  },
  "language_info": {
   "codemirror_mode": {
    "name": "ipython",
    "version": 3
   },
   "file_extension": ".py",
   "mimetype": "text/x-python",
   "name": "python",
   "nbconvert_exporter": "python",
   "pygments_lexer": "ipython3",
   "version": "3.8.12"
  },
  "toc": {
   "base_numbering": 1,
   "nav_menu": {},
   "number_sections": true,
   "sideBar": true,
   "skip_h1_title": false,
   "title_cell": "Table of Contents",
   "title_sidebar": "Contents",
   "toc_cell": false,
   "toc_position": {},
   "toc_section_display": true,
   "toc_window_display": false
  },
  "widgets": {
   "application/vnd.jupyter.widget-state+json": {
    "state": {},
    "version_major": 2,
    "version_minor": 0
   }
  }
 },
 "nbformat": 4,
 "nbformat_minor": 4
}
