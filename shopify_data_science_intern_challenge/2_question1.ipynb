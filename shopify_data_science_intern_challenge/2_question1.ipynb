{
 "cells": [
  {
   "cell_type": "markdown",
   "metadata": {},
   "source": [
    "# Question 1"
   ]
  },
  {
   "cell_type": "markdown",
   "metadata": {},
   "source": [
    "Given some sample data, write a program to answer the following: \n",
    "\n",
    "```On Shopify, we have exactly 100 sneaker shops, and each of these shops sells only one model of shoe. We want to do some analysis of the average order value (AOV). When we look at orders data over a 30 day window, we naively calculate an AOV of $3145.13. Given that we know these shops are selling sneakers, a relatively affordable item, something seems wrong with our analysis. ```"
   ]
  },
  {
   "cell_type": "code",
   "execution_count": null,
   "metadata": {},
   "outputs": [],
   "source": [
    "import altair as alt\n",
    "import pandas as pd"
   ]
  },
  {
   "cell_type": "markdown",
   "metadata": {},
   "source": [
    "## Think about what could be going wrong with our calculation. Think about a better way to evaluate this data.  \n",
    "\n",
    "Assume the data is in USD, the amount of AOV does not make sense, given  \n",
    "1. The sold sneakers are affordable items (i.e. says USD100).\n",
    "2. Each shops sells one model  \n",
    "\n",
    "This indicated customers are making bulk purchases of 30 pairs of identical shoes per order in average.  \n",
    "\n",
    "Shopify is well known among B2C eCommerce. Therefore this result is unlikely to happen."
   ]
  },
  {
   "cell_type": "code",
   "execution_count": null,
   "metadata": {},
   "outputs": [],
   "source": [
    "orders = pd.read_csv('data/orders.csv')\n",
    "orders.head()"
   ]
  },
  {
   "cell_type": "markdown",
   "metadata": {},
   "source": [
    "Looking at the data, the `total_items` is much less than 30 in first few lines.  \n",
    "As mean is estimator that very sensitive to outliers, my first suspicion is there are outliners in the dataset."
   ]
  },
  {
   "cell_type": "code",
   "execution_count": null,
   "metadata": {},
   "outputs": [],
   "source": [
    "alt.Chart(orders).mark_bar().encode(\n",
    "    alt.X(\n",
    "        \"total_items\",\n",
    "        bin=alt.Bin(maxbins=30),\n",
    "        title=\"Average number of sneakers per order (pair)\",\n",
    "    ),\n",
    "    y=\"count()\",\n",
    "    tooltip=[\"total_items\", \"count()\", \"order_amount\"],\n",
    ").properties(\n",
    "    height=200, width=800, title=\"Distribution of average number of sneakers per order\"\n",
    ")"
   ]
  },
  {
   "cell_type": "markdown",
   "metadata": {},
   "source": [
    "Form the graph above, most of the orders are between 1-3 items. However, there are 17 records with bulk purchase of 2000 pairs of shoes (USD704,000), it leads to the high shift of AOV. "
   ]
  },
  {
   "cell_type": "markdown",
   "metadata": {},
   "source": [
    "## What metric would you report for this dataset?\n",
    "\n",
    "Because of the outliners, we can use `median`, which is less sensitive to outliers."
   ]
  },
  {
   "cell_type": "markdown",
   "metadata": {},
   "source": [
    "## What is its value?"
   ]
  },
  {
   "cell_type": "code",
   "execution_count": null,
   "metadata": {},
   "outputs": [],
   "source": [
    "print(f'The median of order value is USD{ orders[\"order_amount\"].median()}')"
   ]
  },
  {
   "cell_type": "markdown",
   "metadata": {},
   "source": [
    "It is a fairly reasonable amount, compare to USD$3145.13.  \n",
    "\n",
    "\n",
    "To further investigate, we can also look at the distribution of average price per pair of shoes."
   ]
  },
  {
   "cell_type": "code",
   "execution_count": null,
   "metadata": {},
   "outputs": [],
   "source": [
    "orders[\"avg_per_pair\"] = orders[\"order_amount\"] / orders[\"total_items\"]\n",
    "base = (\n",
    "    alt.Chart(orders)\n",
    "    .mark_bar()\n",
    "    .encode(\n",
    "        x=alt.X(\n",
    "            \"avg_per_pair:Q\",\n",
    "        ),\n",
    "        y=\"count()\",\n",
    "    )\n",
    "    .properties(height=200, width=800, title=\"Distribution of average sneakers price\")\n",
    ")\n",
    "\n",
    "brush = alt.selection_interval(encodings=[\"x\"])\n",
    "lower = (\n",
    "    base.encode(\n",
    "        x=alt.X(\n",
    "            \"avg_per_pair:Q\",\n",
    "            axis=alt.Axis(\n",
    "                labels=False, title=\"Average price per pair of sneakers (USD)\"\n",
    "            ),\n",
    "        )\n",
    "    )\n",
    "    .properties(height=60, width=800, title=\"Drag the plot in below to zoom\")\n",
    "    .add_selection(brush)\n",
    ")\n",
    "\n",
    "upper = base.encode(\n",
    "    alt.X(\n",
    "        \"avg_per_pair:Q\",\n",
    "        scale=alt.Scale(domain=brush),\n",
    "        axis=alt.Axis(title=\"\"),\n",
    "    )\n",
    ")\n",
    "\n",
    "\n",
    "upper & lower"
   ]
  },
  {
   "cell_type": "markdown",
   "metadata": {},
   "source": [
    "As we can see, there are outliners - very expensive shoes as well.  \n",
    "Therefore, we can compare the median of pair of shoes per order, and the median price per pair of sneakers."
   ]
  },
  {
   "cell_type": "code",
   "execution_count": null,
   "metadata": {},
   "outputs": [],
   "source": [
    "print(f'The median of pair of shoes per order is { orders[\"total_items\"].median()}')\n",
    "print(f'The median price per pair of sneakers is USD{ round(orders[\"avg_per_pair\"].median(), 2) }')"
   ]
  },
  {
   "cell_type": "markdown",
   "metadata": {},
   "source": [
    "It matched our result in part c."
   ]
  }
 ],
 "metadata": {
  "kernelspec": {
   "display_name": "Python 3 (ipykernel)",
   "language": "python",
   "name": "python3"
  },
  "language_info": {
   "codemirror_mode": {
    "name": "ipython",
    "version": 3
   },
   "file_extension": ".py",
   "mimetype": "text/x-python",
   "name": "python",
   "nbconvert_exporter": "python",
   "pygments_lexer": "ipython3",
   "version": "3.9.9"
  },
  "toc": {
   "base_numbering": 1,
   "nav_menu": {},
   "number_sections": true,
   "sideBar": true,
   "skip_h1_title": false,
   "title_cell": "Table of Contents",
   "title_sidebar": "Contents",
   "toc_cell": false,
   "toc_position": {},
   "toc_section_display": true,
   "toc_window_display": false
  },
  "widgets": {
   "application/vnd.jupyter.widget-state+json": {
    "state": {},
    "version_major": 2,
    "version_minor": 0
   }
  }
 },
 "nbformat": 4,
 "nbformat_minor": 4
}
