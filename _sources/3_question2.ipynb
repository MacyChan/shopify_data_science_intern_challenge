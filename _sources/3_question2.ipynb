{
 "cells": [
  {
   "cell_type": "markdown",
   "metadata": {},
   "source": [
    "# Question 2"
   ]
  },
  {
   "cell_type": "markdown",
   "metadata": {},
   "source": [
    "## Question 2:\n",
    "a. How many orders were shipped by Speedy Express in total?  "
   ]
  },
  {
   "cell_type": "markdown",
   "metadata": {},
   "source": [
    "Answer in single query is:"
   ]
  },
  {
   "cell_type": "raw",
   "metadata": {},
   "source": [
    "SELECT count(o.ShipperID) FROM Shippers s\n",
    "JOIN Orders o on s.ShipperID = o.ShipperID\n",
    "WHERE ShipperName = 'Speedy Express'"
   ]
  },
  {
   "cell_type": "markdown",
   "metadata": {},
   "source": [
    "The answer is : **54**"
   ]
  },
  {
   "cell_type": "markdown",
   "metadata": {},
   "source": [
    "However, in reality, depends on the application, we don't need to join the table.  \n",
    "We can find the shipperID of `Speedy Express`, then count the Shipper table to enhance performance, if shipperID is not indexed."
   ]
  },
  {
   "cell_type": "raw",
   "metadata": {},
   "source": [
    "SELECT * FROM Shippers WHERE ShipperName = 'Speedy Express' # ShipperID = 1"
   ]
  },
  {
   "cell_type": "raw",
   "metadata": {},
   "source": [
    "SELECT count(ShipperID) FROM Orders WHERE ShipperID = 1"
   ]
  },
  {
   "cell_type": "markdown",
   "metadata": {},
   "source": [
    "b. What is the last name of the employee with the most orders? "
   ]
  },
  {
   "cell_type": "markdown",
   "metadata": {},
   "source": [
    "Answer in single query is:"
   ]
  },
  {
   "cell_type": "raw",
   "metadata": {},
   "source": [
    "SELECT e.LastName, MAX(Count) \n",
    "FROM (\n",
    "\tSELECT EmployeeID, COUNT(EmployeeID) \"Count\" \n",
    "    FROM [Orders] \n",
    "    GROUP BY EmployeeID) o\n",
    "JOIN Employees e ON o.EmployeeID = e.EmployeeID"
   ]
  },
  {
   "cell_type": "markdown",
   "metadata": {},
   "source": [
    "The answer is : **Peacock**  \n",
    "** The reason of NOT using LIMIT 1 is because there maybe more that one employee has the small amount of maximum orders."
   ]
  },
  {
   "cell_type": "markdown",
   "metadata": {},
   "source": [
    "Similar to part(a), if single query is not necessary, I will query the top five to make sure the employee of maximum order is unique, then query the employee name."
   ]
  },
  {
   "cell_type": "raw",
   "metadata": {},
   "source": [
    "SELECT EmployeeID, COUNT(EmployeeID) \"Count\" \n",
    "FROM [Orders] \n",
    "GROUP BY EmployeeID\n",
    "ORDER BY Count DESC\n",
    "LIMIT 5"
   ]
  },
  {
   "cell_type": "raw",
   "metadata": {},
   "source": [
    "SELECT LastName FROM Employees WHERE EmployeeID = 4"
   ]
  },
  {
   "cell_type": "markdown",
   "metadata": {},
   "source": [
    "c. What product was ordered the most by customers in Germany? "
   ]
  },
  {
   "cell_type": "markdown",
   "metadata": {},
   "source": [
    "Answer in single query is:"
   ]
  },
  {
   "cell_type": "raw",
   "metadata": {},
   "source": [
    "SELECT p.ProductID, p.ProductName, SUM(Quantity) \"Total_Qty\" FROM [Customers] c\n",
    "JOIN Orders o ON c.CustomerID = o.CustomerID\n",
    "JOIN OrderDetails od ON o.OrderID = od.OrderID\n",
    "JOIN Products p on od.ProductID = p.ProductID\n",
    "WHERE c.Country = 'Germany'\n",
    "GROUP BY p.ProductID\n",
    "ORDER BY Total_Qty DESC\n",
    "LIMIT 5"
   ]
  },
  {
   "cell_type": "markdown",
   "metadata": {},
   "source": [
    "The answer is : **Boston Crab Meat**  \n",
    "** This is another approach for Top 1 category, simply draw out more than one values to make sure there is no duplicated top values."
   ]
  }
 ],
 "metadata": {
  "kernelspec": {
   "display_name": "Python 3 (ipykernel)",
   "language": "python",
   "name": "python3"
  },
  "language_info": {
   "codemirror_mode": {
    "name": "ipython",
    "version": 3
   },
   "file_extension": ".py",
   "mimetype": "text/x-python",
   "name": "python",
   "nbconvert_exporter": "python",
   "pygments_lexer": "ipython3",
   "version": "3.9.9"
  },
  "widgets": {
   "application/vnd.jupyter.widget-state+json": {
    "state": {},
    "version_major": 2,
    "version_minor": 0
   }
  }
 },
 "nbformat": 4,
 "nbformat_minor": 4
}
