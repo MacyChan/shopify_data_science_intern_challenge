{
 "cells": [
  {
   "cell_type": "markdown",
   "metadata": {},
   "source": [
    "# Summary"
   ]
  },
  {
   "cell_type": "code",
   "execution_count": 1,
   "metadata": {},
   "outputs": [],
   "source": [
    "import pandas as pd\n",
    "orders = pd.read_csv('data/orders.csv')"
   ]
  },
  {
   "cell_type": "markdown",
   "metadata": {},
   "source": [
    "## Question 1\n",
    "### Think about what could be going wrong with our calculation. Think about a better way to evaluate this data.\n",
    "\n",
    "Assume the data is in USD, the amount of AOV does not make sense, given  \n",
    "1. The sold sneakers are affordable items (i.e. says USD100).\n",
    "2. Each shop sells one model  \n",
    "\n",
    "This indicated customers are making bulk purchases of 30 pairs of identical shoes per order in average.  \n",
    "\n",
    "Shopify is well known among B2C eCommerce. Therefore this result is unlikely to happen."
   ]
  },
  {
   "cell_type": "markdown",
   "metadata": {},
   "source": [
    "### What metric would you report for this dataset?\n",
    "\n",
    "Because of the outliners, we can use `median`, which is less sensitive to outliers."
   ]
  },
  {
   "cell_type": "markdown",
   "metadata": {},
   "source": [
    "### What is its value?"
   ]
  },
  {
   "cell_type": "code",
   "execution_count": 2,
   "metadata": {},
   "outputs": [
    {
     "name": "stdout",
     "output_type": "stream",
     "text": [
      "The median of order value is USD284.0\n"
     ]
    }
   ],
   "source": [
    "print(f'The median of order value is USD{ orders[\"order_amount\"].median()}')"
   ]
  },
  {
   "cell_type": "markdown",
   "metadata": {},
   "source": [
    "## Question 2\n",
    "### How many orders were shipped by Speedy Express in total?  "
   ]
  },
  {
   "cell_type": "code",
   "execution_count": null,
   "metadata": {
    "tags": [
     "skip-execution"
    ]
   },
   "outputs": [],
   "source": [
    "SELECT count(o.ShipperID) FROM Shippers s\n",
    "JOIN Orders o ON s.ShipperID = o.ShipperID\n",
    "WHERE ShipperName = 'Speedy Express'"
   ]
  },
  {
   "cell_type": "markdown",
   "metadata": {},
   "source": [
    "The answer is : **54**"
   ]
  },
  {
   "cell_type": "markdown",
   "metadata": {},
   "source": [
    "### What is the last name of the employee with the most orders? "
   ]
  },
  {
   "cell_type": "code",
   "execution_count": null,
   "metadata": {
    "tags": [
     "skip-execution"
    ]
   },
   "outputs": [],
   "source": [
    "SELECT e.LastName, MAX(Count) \n",
    "FROM (\n",
    "\tSELECT EmployeeID, COUNT(EmployeeID) \"Count\" \n",
    "    FROM [Orders] \n",
    "    GROUP BY EmployeeID) o\n",
    "JOIN Employees e ON o.EmployeeID = e.EmployeeID"
   ]
  },
  {
   "cell_type": "markdown",
   "metadata": {},
   "source": [
    "The answer is : **Peacock**  \n",
    "** The reason of NOT using LIMIT 1 is because there maybe more that one employee has the small amount of maximum orders."
   ]
  },
  {
   "cell_type": "markdown",
   "metadata": {},
   "source": [
    "### What product was ordered the most by customers in Germany? "
   ]
  },
  {
   "cell_type": "code",
   "execution_count": null,
   "metadata": {
    "tags": [
     "skip-execution"
    ]
   },
   "outputs": [],
   "source": [
    "SELECT p.ProductID, p.ProductName, SUM(Quantity) \"Total_Qty\" FROM [Customers] c\n",
    "JOIN Orders o ON c.CustomerID = o.CustomerID\n",
    "JOIN OrderDetails od ON o.OrderID = od.OrderID\n",
    "JOIN Products p ON od.ProductID = p.ProductID\n",
    "WHERE c.Country = 'Germany'\n",
    "GROUP BY p.ProductID\n",
    "ORDER BY Total_Qty DESC\n",
    "LIMIT 5"
   ]
  },
  {
   "cell_type": "markdown",
   "metadata": {},
   "source": [
    "The answer is : **Boston Crab Meat**  \n",
    "** This is another approach for Top 1 category, simply draw out more than one values to make sure there is no duplicated top values."
   ]
  }
 ],
 "metadata": {
  "celltoolbar": "Tags",
  "kernelspec": {
   "display_name": "Python 3 (ipykernel)",
   "language": "python",
   "name": "python3"
  },
  "language_info": {
   "codemirror_mode": {
    "name": "ipython",
    "version": 3
   },
   "file_extension": ".py",
   "mimetype": "text/x-python",
   "name": "python",
   "nbconvert_exporter": "python",
   "pygments_lexer": "ipython3",
   "version": "3.9.9"
  },
  "toc": {
   "base_numbering": 1,
   "nav_menu": {},
   "number_sections": true,
   "sideBar": true,
   "skip_h1_title": false,
   "title_cell": "Table of Contents",
   "title_sidebar": "Contents",
   "toc_cell": false,
   "toc_position": {},
   "toc_section_display": true,
   "toc_window_display": false
  },
  "widgets": {
   "application/vnd.jupyter.widget-state+json": {
    "state": {},
    "version_major": 2,
    "version_minor": 0
   }
  }
 },
 "nbformat": 4,
 "nbformat_minor": 4
}
