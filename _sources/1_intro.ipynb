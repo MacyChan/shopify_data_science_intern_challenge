{
 "cells": [
  {
   "cell_type": "markdown",
   "metadata": {},
   "source": [
    "# Welcome to Macy's Notebook\n",
    "\n",
    "This notebook is created for Shoptify Data Science Intern Challenge (Summer 2022)\n",
    "\n",
    "\n",
    ">For **summary** of answers, click [Here](https://macychan.github.io/shopify_data_science_intern_challenge/4_summary.html)  \n",
    "\n",
    ">For **details** of steps and EDA, click [Question1](https://macychan.github.io/shopify_data_science_intern_challenge/2_question1.html) [Question2](https://macychan.github.io/shopify_data_science_intern_challenge/3_question2.html)  \n",
    "\n",
    "Here is my personal [webpage](https://www.macy-chan.com)"
   ]
  },
  {
   "cell_type": "code",
   "execution_count": 1,
   "metadata": {},
   "outputs": [],
   "source": [
    "%load_ext rpy2.ipython"
   ]
  },
  {
   "cell_type": "code",
   "execution_count": 2,
   "metadata": {},
   "outputs": [
    {
     "name": "stderr",
     "output_type": "stream",
     "text": [
      "R[write to console]: \n",
      " -------------- \n",
      "This is a fun application! \n",
      " --------------\n",
      "    \\\n",
      "      \\\n",
      "        \\\n",
      "            |\\___/|\n",
      "          ==) ^Y^ (==\n",
      "            \\  ^  /\n",
      "             )=*=(\n",
      "            /     \\\n",
      "            |     |\n",
      "           /| | | |\\\n",
      "           \\| | |_|/\\\n",
      "      jgs  //_// ___/\n",
      "               \\_)\n",
      "  \n",
      "\n"
     ]
    }
   ],
   "source": [
    "%%R\n",
    "library(\"cowsay\")\n",
    "say(\"This is a fun application!\", \"cat\")"
   ]
  },
  {
   "cell_type": "code",
   "execution_count": null,
   "metadata": {},
   "outputs": [],
   "source": []
  }
 ],
 "metadata": {
  "celltoolbar": "Tags",
  "kernelspec": {
   "display_name": "Python [conda env:spotify_user_behaviour_predictor]",
   "language": "python",
   "name": "conda-env-spotify_user_behaviour_predictor-py"
  },
  "language_info": {
   "codemirror_mode": {
    "name": "ipython",
    "version": 3
   },
   "file_extension": ".py",
   "mimetype": "text/x-python",
   "name": "python",
   "nbconvert_exporter": "python",
   "pygments_lexer": "ipython3",
   "version": "3.8.12"
  },
  "toc": {
   "base_numbering": 1,
   "nav_menu": {},
   "number_sections": true,
   "sideBar": true,
   "skip_h1_title": false,
   "title_cell": "Table of Contents",
   "title_sidebar": "Contents",
   "toc_cell": false,
   "toc_position": {},
   "toc_section_display": true,
   "toc_window_display": false
  },
  "widgets": {
   "application/vnd.jupyter.widget-state+json": {
    "state": {},
    "version_major": 2,
    "version_minor": 0
   }
  }
 },
 "nbformat": 4,
 "nbformat_minor": 4
}
